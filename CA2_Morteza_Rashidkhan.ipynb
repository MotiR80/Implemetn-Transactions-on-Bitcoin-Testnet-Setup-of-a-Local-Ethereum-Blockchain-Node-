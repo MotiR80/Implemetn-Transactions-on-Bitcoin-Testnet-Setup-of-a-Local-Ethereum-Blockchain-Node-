{
  "cells": [
    {
      "cell_type": "markdown",
      "metadata": {
        "id": "4Z8lJ_FS5TbS"
      },
      "source": [
        "# <center>CryptoCurrencies CA#2<center>\n",
        "<h1><center>Transacting on Bitcoin TestNet / Firing up an Ethereum Node<center></h1>\n",
        "\n",
        "#### <center>\"Morteza - Rashidkhan\"<center>\n",
        "#### <center>\"810899055\"<center>"
      ]
    },
    {
      "cell_type": "code",
      "execution_count": 2,
      "metadata": {
        "colab": {
          "base_uri": "https://localhost:8080/"
        },
        "id": "tCrTRjANnz9D",
        "outputId": "335e9846-eb8e-457e-fba0-a48586d495ff"
      },
      "outputs": [
        {
          "output_type": "stream",
          "name": "stdout",
          "text": [
            "Collecting base58\n",
            "  Downloading base58-2.1.1-py3-none-any.whl (5.6 kB)\n",
            "Collecting ecdsa\n",
            "  Downloading ecdsa-0.19.0-py2.py3-none-any.whl (149 kB)\n",
            "\u001b[?25l     \u001b[90m━━━━━━━━━━━━━━━━━━━━━━━━━━━━━━━━━━━━━━━━\u001b[0m \u001b[32m0.0/149.3 kB\u001b[0m \u001b[31m?\u001b[0m eta \u001b[36m-:--:--\u001b[0m\r\u001b[2K     \u001b[91m━━━━━━━━━━━━━━━━━━━━━━━━━━━━━━━━━━━━━━\u001b[0m\u001b[90m╺\u001b[0m\u001b[90m━\u001b[0m \u001b[32m143.4/149.3 kB\u001b[0m \u001b[31m4.5 MB/s\u001b[0m eta \u001b[36m0:00:01\u001b[0m\r\u001b[2K     \u001b[90m━━━━━━━━━━━━━━━━━━━━━━━━━━━━━━━━━━━━━━━━\u001b[0m \u001b[32m149.3/149.3 kB\u001b[0m \u001b[31m3.8 MB/s\u001b[0m eta \u001b[36m0:00:00\u001b[0m\n",
            "\u001b[?25hCollecting ripemd-hash\n",
            "  Downloading ripemd-hash-1.0.1.tar.gz (18 kB)\n",
            "  Preparing metadata (setup.py) ... \u001b[?25l\u001b[?25hdone\n",
            "Collecting python-bitcoinlib\n",
            "  Downloading python_bitcoinlib-0.12.2-py3-none-any.whl (106 kB)\n",
            "\u001b[2K     \u001b[90m━━━━━━━━━━━━━━━━━━━━━━━━━━━━━━━━━━━━━━━━\u001b[0m \u001b[32m107.0/107.0 kB\u001b[0m \u001b[31m11.7 MB/s\u001b[0m eta \u001b[36m0:00:00\u001b[0m\n",
            "\u001b[?25hRequirement already satisfied: six>=1.9.0 in /usr/local/lib/python3.10/dist-packages (from ecdsa) (1.16.0)\n",
            "Building wheels for collected packages: ripemd-hash\n",
            "  Building wheel for ripemd-hash (setup.py) ... \u001b[?25l\u001b[?25hdone\n",
            "  Created wheel for ripemd-hash: filename=ripemd_hash-1.0.1-cp310-cp310-linux_x86_64.whl size=19072 sha256=863fdfdfc6dcc0b048c504467be69c55264e06fd2abf6815086c7ee7865149e5\n",
            "  Stored in directory: /root/.cache/pip/wheels/bd/e3/8d/d140830b288c0694608cd501a7cde6c1d6abf754d37d57cd6d\n",
            "Successfully built ripemd-hash\n",
            "Installing collected packages: python-bitcoinlib, ripemd-hash, ecdsa, base58\n",
            "Successfully installed base58-2.1.1 ecdsa-0.19.0 python-bitcoinlib-0.12.2 ripemd-hash-1.0.1\n"
          ]
        }
      ],
      "source": [
        "!pip install base58 ecdsa ripemd-hash python-bitcoinlib"
      ]
    },
    {
      "cell_type": "code",
      "execution_count": 3,
      "metadata": {
        "id": "OQrBvv1xn2Q8"
      },
      "outputs": [],
      "source": [
        "import os\n",
        "import base58\n",
        "import ecdsa\n",
        "from hashlib import sha256\n",
        "import binascii\n",
        "from ripemd.ripemd160 import ripemd160"
      ]
    },
    {
      "cell_type": "markdown",
      "metadata": {
        "id": "Vs-NkT5z5TbV"
      },
      "source": [
        "## 1. Address Generation:"
      ]
    },
    {
      "cell_type": "code",
      "execution_count": 4,
      "metadata": {
        "id": "eXs4H0Bkntbr"
      },
      "outputs": [],
      "source": [
        "def getWif(privkey):\n",
        "    wif = b\"\\xef\" + privkey # 0xef for testnet and 0x80 for mainnet\n",
        "    checksum = sha256(sha256(wif).digest()).digest()[:4]\n",
        "    wif += checksum\n",
        "    return base58.b58encode(wif)"
      ]
    },
    {
      "cell_type": "markdown",
      "metadata": {
        "id": "L_wfFe6E5TbV"
      },
      "source": [
        " 1.1: Base58 and WIF address"
      ]
    },
    {
      "cell_type": "code",
      "execution_count": 157,
      "metadata": {
        "colab": {
          "base_uri": "https://localhost:8080/"
        },
        "id": "bdN44h1J5TbW",
        "outputId": "8597a5e4-4991-48ac-a677-c0ddea205040"
      },
      "outputs": [
        {
          "output_type": "stream",
          "name": "stdout",
          "text": [
            "bitcoin address: n2px8MPScKUkhiWZxckkTHZQVda14g4svz\n",
            "Private Key (WIF): 92ABWZK4kLxN1EqbkPLQcUntwm5ZfLE4SxR6o8WQSfHSXLjwJZc\n"
          ]
        }
      ],
      "source": [
        "def btc_add_generate():\n",
        "  ecdsaPrivateKey = ecdsa.SigningKey.generate(curve=ecdsa.SECP256k1)\n",
        "  # print(\"ECDSA Private Key: \", ecdsaPrivateKey.to_string().hex())\n",
        "\n",
        "  ecdsaPublicKey = '04' +  ecdsaPrivateKey.get_verifying_key().to_string().hex()\n",
        "  # print(\"ECDSA Public Key: \", ecdsaPublicKey)\n",
        "\n",
        "  hash256FromECDSAPublicKey = sha256(binascii.unhexlify(ecdsaPublicKey)).hexdigest()\n",
        "  # print(\"SHA256(ECDSA Public Key): \", hash256FromECDSAPublicKey)\n",
        "\n",
        "  ridemp160FromHash256 = ripemd160(binascii.unhexlify(hash256FromECDSAPublicKey))\n",
        "  # print(\"RIDEMP160(SHA256(ECDSA Public Key)): \", ridemp160FromHash256.hex())\n",
        "\n",
        "  prependNetworkByte = '6f' + ridemp160FromHash256.hex() # 0x6f for testnet and 0x00 for mainnet\n",
        "  # print(\"Prepend Network Byte to RIDEMP160(SHA256(ECDSA Public Key)): \", prependNetworkByte)\n",
        "\n",
        "  hash = prependNetworkByte\n",
        "  for x in range(1,3):\n",
        "      hash = sha256(binascii.unhexlify(hash)).hexdigest()\n",
        "      # print(\"\\t|___>SHA256 #\", x, \" : \", hash)\n",
        "\n",
        "  cheksum = hash[:8]\n",
        "  # print(\"Checksum(first 4 bytes): \", cheksum)\n",
        "\n",
        "  appendChecksum = prependNetworkByte + cheksum\n",
        "  # print(\"Append Checksum to RIDEMP160(SHA256(ECDSA Public Key)): \", appendChecksum)\n",
        "\n",
        "  bitcoinAddress = base58.b58encode(binascii.unhexlify(appendChecksum))\n",
        "  # print(\"Bitcoin Address: \", bitcoinAddress.decode('utf8'))\n",
        "\n",
        "  return bitcoinAddress, getWif(ecdsaPrivateKey.to_string())\n",
        "\n",
        "address, wif = btc_add_generate()\n",
        "print(f\"bitcoin address: {address.decode()}\")\n",
        "print(f\"Private Key (WIF): {wif.decode()}\")"
      ]
    },
    {
      "cell_type": "markdown",
      "metadata": {
        "id": "Kmi-Ebgp5TbW"
      },
      "source": [
        "1.2: Vanity Address Generator\n"
      ]
    },
    {
      "cell_type": "code",
      "execution_count": null,
      "metadata": {
        "colab": {
          "base_uri": "https://localhost:8080/"
        },
        "id": "9_UK6KcE5TbX",
        "outputId": "935acfef-8d66-40a9-e221-22ed05e3a17f"
      },
      "outputs": [
        {
          "name": "stdout",
          "output_type": "stream",
          "text": [
            "Vanity Address: mpikALrCM4VDR6gmd3K7638pGQALyd32xK\n",
            "Private Key (WIF): 92ccUJ7FUaw7vPUKfXTmBF5k1DBJ77GWify7N9sEQuTxunsKcHk\n"
          ]
        }
      ],
      "source": [
        "def find_vanity_address(prefix):\n",
        "  while True:\n",
        "    ecdsaPrivateKey = ecdsa.SigningKey.generate(curve=ecdsa.SECP256k1)\n",
        "    ecdsaPublicKey = b'\\x04' +  ecdsaPrivateKey.get_verifying_key().to_string()\n",
        "    hash256FromECDSAPublicKey = sha256((ecdsaPublicKey)).digest()\n",
        "    ridemp160FromHash256 = ripemd160(hash256FromECDSAPublicKey)\n",
        "    prependNetworkByte = b'\\x6f' + ridemp160FromHash256 # 0x6f for testnet and 0x00 for mainnet\n",
        "    hash = prependNetworkByte\n",
        "    for x in range(1,3):\n",
        "        hash = sha256(hash).digest()\n",
        "    cheksum = hash[:4]\n",
        "    appendChecksum = prependNetworkByte + cheksum\n",
        "    bitcoinAddress = base58.b58encode(appendChecksum)\n",
        "    if bitcoinAddress.decode()[1:].startswith(prefix):\n",
        "      return bitcoinAddress, getWif(ecdsaPrivateKey.to_string())\n",
        "\n",
        "desired_prefix = \"pik\"\n",
        "vanity_address, vanity_wif = find_vanity_address(desired_prefix)\n",
        "print(f\"Vanity Address: {vanity_address.decode()}\")\n",
        "print(f\"Private Key (WIF): {vanity_wif.decode()}\")"
      ]
    },
    {
      "cell_type": "markdown",
      "metadata": {
        "id": "Mis5N69Y5TbX"
      },
      "source": [
        "## 2. Transacting on Bitcoin TestNet:"
      ]
    },
    {
      "cell_type": "markdown",
      "metadata": {
        "id": "cuJzSh0Y5TbX"
      },
      "source": [
        "Here are some utility functions that you will need to use in order to make transactions. Fill the #TODO parts in the functions in order to be used in the next steps:"
      ]
    },
    {
      "cell_type": "markdown",
      "metadata": {
        "id": "O8lfoCsg5TbX"
      },
      "source": [
        "#### Utility Functions:"
      ]
    },
    {
      "cell_type": "code",
      "execution_count": 4,
      "metadata": {
        "id": "ejvLOlmb5TbY"
      },
      "outputs": [],
      "source": [
        "import bitcoin.wallet\n",
        "from bitcoin.core import COIN, b2lx, serialize, x, lx, b2x\n",
        "from bitcoin.core.scripteval import OP_DUP, OP_HASH160, OP_EQUALVERIFY, OP_CHECKSIG\n",
        "# from utils import *\n",
        "\n",
        "bitcoin.SelectParams(\"testnet\")  # Select the network (testnet or mainnet)\n",
        "# Private key in WIF format XXXXXXXXXXXXXXXXXXXXXXXXXXXXXXXXXXXXXXXXXXXXXXXXXXX\n",
        "my_private_key = bitcoin.wallet.CBitcoinSecret(\"92b2YxT5wqFtT8oZJqd91P6n4rWonFg7XBPPRgegt6szp4dgMY9\")\n",
        "my_public_key = my_private_key.pub\n",
        "my_address = bitcoin.wallet.P2PKHBitcoinAddress.from_pubkey(my_public_key)\n",
        "destination_address = bitcoin.wallet.CBitcoinAddress(\"mpikWc4XVfcaYqVUZ4bk9zkzHWv8M2PxQG\")  # Destination address (recipient of the money)\n",
        "\n",
        "\n",
        "def P2PKH_scriptPubKey(address):\n",
        "    decoded = base58.b58decode(address)\n",
        "    publicKeyHash = decoded[1:-4]\n",
        "    return [OP_DUP, OP_HASH160, publicKeyHash, OP_EQUALVERIFY, OP_CHECKSIG]\n",
        "\n",
        "\n",
        "def P2PKH_scriptSig(txin, txout, txin_scriptPubKey):\n",
        "    signature = create_OP_CHECKSIG_signature(txin, txout, txin_scriptPubKey, my_private_key)\n",
        "\n",
        "    return [signature, my_public_key]  # Fill this section\n",
        "\n",
        "\n",
        "def send_from_P2PKH_transaction(amount_to_send, txid_to_spend, utxo_index, txout_scriptPubKey):\n",
        "    txout = create_txout(amount_to_send, txout_scriptPubKey)\n",
        "\n",
        "    txin_scriptPubKey = P2PKH_scriptPubKey(my_address)\n",
        "    txin = create_txin(txid_to_spend, utxo_index)\n",
        "    txin_scriptSig = P2PKH_scriptSig(txin, txout, txin_scriptPubKey)\n",
        "\n",
        "    new_tx = create_signed_transaction(txin, txout, txin_scriptPubKey, txin_scriptSig)\n",
        "\n",
        "    return broadcast_transaction(new_tx)\n",
        "\n",
        "\n",
        "def run():\n",
        "    ######################################################################\n",
        "    amount_to_send = 0.1\n",
        "    txid_to_spend = ('ad310edb4ff2cb6a4cd2c7de13c5ab321ac0f90022170a109c84836f6ce54abc')  # TxHash of UTXO\n",
        "    utxo_index = 0  # UTXO index among transaction outputs\n",
        "    ######################################################################\n",
        "\n",
        "    print(my_address)  # Prints your address in base58\n",
        "    print(my_public_key.hex())  # Print your public key in hex\n",
        "    print(my_private_key.hex())  # Print your private key in hex\n",
        "    txout_scriptPubKey = P2PKH_scriptPubKey(my_address)\n",
        "    response = send_from_P2PKH_transaction(amount_to_send, txid_to_spend, utxo_index, txout_scriptPubKey)\n",
        "    print(response.status_code, response.reason)\n",
        "    print(response.text)  # Report the hash of transaction which is printed in this section result\n"
      ]
    },
    {
      "cell_type": "code",
      "execution_count": 5,
      "metadata": {
        "id": "YvakdO3l5TbY"
      },
      "outputs": [],
      "source": [
        "import requests\n",
        "\n",
        "from bitcoin.core import b2x, lx, COIN, COutPoint, CMutableTxOut, CMutableTxIn, CMutableTransaction, Hash160\n",
        "from bitcoin.core.script import *\n",
        "from bitcoin.core.scripteval import VerifyScript, SCRIPT_VERIFY_P2SH\n",
        "\n",
        "\n",
        "def send_from_custom_transaction(amount_to_send, txid_to_spend, utxo_index, txin_scriptPubKey, txin_scriptSig, txout_scriptPubKey):\n",
        "    txout = create_txout(amount_to_send, txout_scriptPubKey)\n",
        "    txin = create_txin(txid_to_spend, utxo_index)\n",
        "    new_tx = create_signed_transaction(txin, txout, txin_scriptPubKey, txin_scriptSig)\n",
        "    return broadcast_transaction(new_tx)\n",
        "\n",
        "\n",
        "def create_txin(txid, utxo_index):\n",
        "    return CMutableTxIn(COutPoint(lx(txid), utxo_index))\n",
        "\n",
        "\n",
        "def create_txout(amount, scriptPubKey):\n",
        "    return CMutableTxOut(amount*COIN, CScript(scriptPubKey))\n",
        "\n",
        "\n",
        "def create_OP_CHECKSIG_signature(txin, txout, txin_scriptPubKey, seckey):\n",
        "    tx = CMutableTransaction([txin], [txout])\n",
        "    sighash = SignatureHash(CScript(txin_scriptPubKey), tx, 0, SIGHASH_ALL)\n",
        "    sig = seckey.sign(sighash) + bytes([SIGHASH_ALL])\n",
        "    return sig\n",
        "\n",
        "\n",
        "def create_signed_transaction(txin, txout, txin_scriptPubKey, txin_scriptSig):\n",
        "    tx = CMutableTransaction([txin], [txout])\n",
        "    txin.scriptSig = CScript(txin_scriptSig)\n",
        "    VerifyScript(txin.scriptSig, CScript(txin_scriptPubKey), tx, 0, (SCRIPT_VERIFY_P2SH,))\n",
        "    return tx\n",
        "\n",
        "\n",
        "def broadcast_transaction(tx):\n",
        "    raw_transaction = b2x(tx.serialize())\n",
        "    headers = {'content-type': 'application/x-www-form-urlencoded'}\n",
        "    return requests.post(\n",
        "        'https://mempool.space/testnet4/api/tx',\n",
        "        headers=headers,\n",
        "        data='{\"tx\": \"%s\"}' % raw_transaction,\n",
        "    )\n"
      ]
    },
    {
      "cell_type": "markdown",
      "metadata": {
        "id": "6Bzx3Hwa5TbZ"
      },
      "source": [
        "Now use the provided functions to make these transactions:"
      ]
    },
    {
      "cell_type": "markdown",
      "metadata": {
        "id": "muME3IWI5TbZ"
      },
      "source": [
        "### **2.1: One input and two outputs transaction**"
      ]
    },
    {
      "cell_type": "code",
      "execution_count": null,
      "metadata": {
        "id": "tuUNOONR5Tba",
        "collapsed": true
      },
      "outputs": [],
      "source": [
        "def create_first_transaction():\n",
        "    txid_to_spend = 'xxxxxxxxxxxxxxxxxxxxxxxxxxxxxxxxxxxxxxxxxxxxxxxxxxxx'  # Replace with actual txid\n",
        "    utxo_index = 1\n",
        "    amount_to_send = 0.00560572  # Amount in BTC\n",
        "    fee = 0.0001  # Fee in BTC\n",
        "\n",
        "    private_key = bitcoin.wallet.CBitcoinSecret(\"xxxxxxxxxxxxxxxxxxxxxxxxxxxxxxxxxxxxxxxxxxxxxxxxx\") # Replace with actual private key\n",
        "    public_key = private_key.pub\n",
        "    address = bitcoin.wallet.P2PKHBitcoinAddress.from_pubkey(public_key)\n",
        "\n",
        "    hashed_true = Hash160(b'\\x51') # OP_TRUE\n",
        "\n",
        "    # Create outputs\n",
        "    unspendable_scriptPubKey = [OP_RETURN, b'un_spendable']\n",
        "    spendable_scriptPubKey = [OP_HASH160, hashed_true, OP_EQUAL]\n",
        "\n",
        "    txin = create_txin(txid_to_spend, utxo_index)\n",
        "    txout1 = create_txout(0.0, unspendable_scriptPubKey)  # 0 BTC output to OP_RETURN\n",
        "    txout2 = create_txout(amount_to_send - fee, spendable_scriptPubKey)\n",
        "\n",
        "    txin_scriptPubKey = P2PKH_scriptPubKey(str(address))\n",
        "\n",
        "    tx = CMutableTransaction([txin], [txout1, txout2])\n",
        "    sighash = SignatureHash(CScript(txin_scriptPubKey), tx, 0, SIGHASH_ALL)\n",
        "    sig = private_key.sign(sighash) + bytes([SIGHASH_ALL])\n",
        "\n",
        "    txin_scriptSig = [sig, public_key]\n",
        "    txin.scriptSig = CScript(txin_scriptSig)\n",
        "    VerifyScript(txin.scriptSig, CScript(txin_scriptPubKey), tx, 0, (SCRIPT_VERIFY_P2SH,))\n",
        "\n",
        "    # response = broadcast_transaction(tx)\n",
        "    # print(response.status_code, response.reason)\n",
        "    # print(response.text)\n",
        "    return b2x(tx.serialize())\n",
        "\n",
        "\n",
        "def create_second_transaction(txid_to_spend):\n",
        "    # Replace with the txid of the first transaction and the correct output index\n",
        "    utxo_index = 1  # The index of the spendable output in the first transaction\n",
        "    amount_to_send = 0.00550572  # Amount in BTC (after subtracting fee)\n",
        "    fee = 0.00001  # Fee in BTC\n",
        "\n",
        "    private_key = bitcoin.wallet.CBitcoinSecret(\"xxxxxxxxxxxxxxxxxxxxxxxxxxxxxxxxxxxxxxxxxxxxxxxxx\")  # Replace with actual private key\n",
        "    public_key = private_key.pub\n",
        "    address = bitcoin.wallet.P2PKHBitcoinAddress.from_pubkey(public_key)\n",
        "\n",
        "    txin = create_txin(txid_to_spend, utxo_index)\n",
        "    txout_scriptPubKey = P2PKH_scriptPubKey(str(address))\n",
        "\n",
        "    txout = create_txout(amount_to_send - fee, txout_scriptPubKey)\n",
        "    tx = CMutableTransaction([txin], [txout])\n",
        "\n",
        "    # Previous scriptPubKey\n",
        "    txin_scriptPubKey = [0x51]\n",
        "    # No signature needed as it is spendable by anyone\n",
        "    txin_scriptSig = [0x51]\n",
        "\n",
        "    txin.scriptSig = CScript(txin_scriptSig)\n",
        "    VerifyScript(txin.scriptSig, CScript(txin_scriptPubKey), tx, 0, (SCRIPT_VERIFY_P2SH,))\n",
        "\n",
        "    # response = broadcast_transaction(tx)\n",
        "    # print(response.status_code, response.reason)\n",
        "    # print(response.text)\n",
        "    return b2x(tx.serialize())\n"
      ]
    },
    {
      "cell_type": "markdown",
      "source": [
        "**first transaction:**"
      ],
      "metadata": {
        "id": "euI52DiumNGe"
      }
    },
    {
      "cell_type": "code",
      "source": [
        "tx1_hex1 = create_first_transaction()\n",
        "# !echo $tx1_hex1\n",
        "!curl -X POST -sSLd \"$tx1_hex1\" \"https://mempool.space/testnet4/api/tx\""
      ],
      "metadata": {
        "id": "eFRQvq_mlOMl"
      },
      "execution_count": null,
      "outputs": []
    },
    {
      "cell_type": "markdown",
      "source": [
        "**second transaction:**"
      ],
      "metadata": {
        "id": "rxn-Yj-4mQ5J"
      }
    },
    {
      "cell_type": "code",
      "source": [
        "tx1_hex2 = create_second_transaction(\"xxxxxxxxxxxxxxxxxxxxxxxxxxxxxxxxxxxxxxxxxxxxxxxxxxxxxx\") ## txid from first transaction\n",
        "# !echo $tx1_hex2\n",
        "!curl -X POST -sSLd \"$tx1_hex2\" \"https://mempool.space/testnet4/api/tx\""
      ],
      "metadata": {
        "id": "DEwnTKZolU7Q"
      },
      "execution_count": null,
      "outputs": []
    },
    {
      "cell_type": "markdown",
      "metadata": {
        "id": "gwSqOUGr5Tba"
      },
      "source": [
        "### 2.2: Pay to MultiSig transaction (P2MS)\n"
      ]
    },
    {
      "cell_type": "code",
      "source": [
        "# Create the conditional scriptPubKey\n",
        "def create_P2MS(pubkey1, pubkey2, pubkey3):\n",
        "    return [OP_2, pubkey1, pubkey2, pubkey3, OP_3, OP_CHECKMULTISIG]\n",
        "\n",
        "def create_P2MS_transaction(txid_to_spend, utxo_index, amount_to_send, fee, dst_pubkey1, dst_pubkey2, dst_pubkey3, my_secKey, txin_scriptPubKey):\n",
        "    txin = CMutableTxIn(COutPoint(lx(txid_to_spend), utxo_index))\n",
        "    txout_scriptPubKey = create_P2MS(dst_pubkey1, dst_pubkey2, dst_pubkey3)\n",
        "    txout = CMutableTxOut((amount_to_send - fee) * COIN, CScript(txout_scriptPubKey))\n",
        "    tx = CMutableTransaction([txin], [txout])\n",
        "\n",
        "    # Sign the transaction\n",
        "    sighash = SignatureHash(CScript(txin_scriptPubKey), tx, 0, SIGHASH_ALL)\n",
        "    sig = my_secKey.sign(sighash) + bytes([SIGHASH_ALL])\n",
        "\n",
        "    txin.scriptSig = CScript([sig, my_secKey.pub])\n",
        "\n",
        "    VerifyScript(txin.scriptSig, CScript(txin_scriptPubKey), tx, 0, (SCRIPT_VERIFY_P2SH,))\n",
        "\n",
        "    raw_transaction = b2x(tx.serialize())\n",
        "    return raw_transaction\n",
        "\n",
        "def spend_P2MS_transaction(txid_to_spend, utxo_index, amount_to_send, fee, seckey1, seckey2, my_address, txin_scriptPubKey):\n",
        "  txin = CMutableTxIn(COutPoint(lx(txid_to_spend), utxo_index))\n",
        "  txout_scriptPubKey = P2PKH_scriptPubKey(str(my_address))\n",
        "  txout = CMutableTxOut((amount_to_send - fee) * COIN, CScript(txout_scriptPubKey))\n",
        "  tx = CMutableTransaction([txin], [txout])\n",
        "\n",
        "  # Sign the transaction\n",
        "  sighash = SignatureHash(CScript(txin_scriptPubKey), tx, 0, SIGHASH_ALL)\n",
        "\n",
        "  sig1 = seckey1.sign(sighash) + bytes([SIGHASH_ALL])\n",
        "  sig2 = seckey2.sign(sighash) + bytes([SIGHASH_ALL])\n",
        "\n",
        "  txin.scriptSig = CScript([0, sig1, sig2])\n",
        "\n",
        "  VerifyScript(txin.scriptSig, CScript(txin_scriptPubKey), tx, 0, (SCRIPT_VERIFY_P2SH,))\n",
        "\n",
        "  raw_transaction = b2x(tx.serialize())\n",
        "  return raw_transaction"
      ],
      "metadata": {
        "id": "u0eZdtIixBHc"
      },
      "execution_count": 6,
      "outputs": []
    },
    {
      "cell_type": "markdown",
      "source": [
        "#### **Create P2MS Transaction**"
      ],
      "metadata": {
        "id": "7kWjDOJT9Zru"
      }
    },
    {
      "cell_type": "code",
      "source": [
        "my_private_key = bitcoin.wallet.CBitcoinSecret(\"92yyk3sjqzTTXoTAk9XcHPvxB3pFdiLGF5bDzZTr7GJUSwGCEQC\") # Replace with actual wif\n",
        "my_public_key = my_private_key.pub\n",
        "my_address = bitcoin.wallet.P2PKHBitcoinAddress.from_pubkey(my_public_key)\n",
        "\n",
        "dst_seckey1 = bitcoin.wallet.CBitcoinSecret(\"93N2Hw71bHAcvkn4JM3VLqW8e3MYJRyoDVe5aXdbvmh7XCX5Fyz\") # Replace with actual destination wif\n",
        "dst_pubkey1 = dst_seckey1.pub\n",
        "dst_address1 = bitcoin.wallet.P2PKHBitcoinAddress.from_pubkey(dst_pubkey1)\n",
        "\n",
        "dst_seckey2 = bitcoin.wallet.CBitcoinSecret(\"93Q5PZFgZfM9EcuDHf5Q8ASrv4K53QNWMkiVPFPtJmUQA6pWK5s\") # Replace with actual destination wif\n",
        "dst_pubkey2 = dst_seckey2.pub\n",
        "dst_address2 = bitcoin.wallet.P2PKHBitcoinAddress.from_pubkey(dst_pubkey2)\n",
        "\n",
        "dst_seckey3 = bitcoin.wallet.CBitcoinSecret(\"92ABWZK4kLxN1EqbkPLQcUntwm5ZfLE4SxR6o8WQSfHSXLjwJZc\") # Replace with actual destination wif\n",
        "dst_pubkey3 = dst_seckey3.pub\n",
        "dst_address3 = bitcoin.wallet.P2PKHBitcoinAddress.from_pubkey(dst_pubkey3)\n",
        "\n",
        "txid = 'ff5ad8d5b0cd7b0489efe84ce018b4f2529559f6b3d0fb1e378b718d835d0821'  # Replace with actual txid from faucet\n",
        "utxo_index = 0\n",
        "amount_to_send = 0.00487645  ## replace with your actual balance\n",
        "fee = 0.0001\n",
        "\n",
        "txin_scriptPubKey = P2PKH_scriptPubKey(str(my_address))\n",
        "tx2_hex1 = create_P2MS_transaction(txid, utxo_index, amount_to_send, fee, dst_pubkey1, dst_pubkey2, dst_pubkey3, my_private_key, txin_scriptPubKey)\n",
        "# !echo $tx2_hex1\n",
        "!curl -X POST -sSLd \"$tx2_hex1\" \"https://mempool.space/testnet4/api/tx\""
      ],
      "metadata": {
        "colab": {
          "base_uri": "https://localhost:8080/"
        },
        "id": "xjTxIBYqzqM3",
        "outputId": "0800326a-9302-43c3-de24-7b0e34066609"
      },
      "execution_count": 167,
      "outputs": [
        {
          "output_type": "stream",
          "name": "stdout",
          "text": [
            "010000000121085d838d718b371efbd0b3f6599552f2b418e04ce8ef89047bcdb0d5d85aff000000008b4830450221009fea0363ee3821ecdd957914194e18d41ff04092412353772efd2562b668dc4a02204bf27fbe053c2f5f96951b1e105de183df62960ce5302a1b608af17e1b96619401410461aabb2ab8fbf76f7d5b5701bfdaba4c04be33722a5cc3d3c331a95fc4cd1c45b49deedba6907d46e53d0f70116a1ea60c6f700f99a3c226db280aa6ec1b77d2ffffffff01cd49070000000000c9524104ad34a2c1bbd3aec7ebae0c3cfab37c0715ec3a189597ae31b1ed1f44abe93047e2ec7a945c2a1219484bdb458068bb8a7ce13c190325357a29424a089b8bd756410478607280574ccab25285b26d225c02988b68cf2adead05f2d21a12b3006026d6e71aa2491733c8731d4ac44be2ae5eb4552180c9d0cb29f37fb0167adb51b37e4104bf81ac047f76bd187351a9dc5ea2fead1b0de39fc367e9b6ebdcc1d877dfb2da8ec28ad50dde6732dc94bdd4f26382bac4f69cda10987b43151cb613f7e06f7653ae00000000\n"
          ]
        }
      ]
    },
    {
      "cell_type": "markdown",
      "source": [
        "#### **Spend P2MS Transaction**"
      ],
      "metadata": {
        "id": "Nby1iTQh9mBC"
      }
    },
    {
      "cell_type": "code",
      "source": [
        "my_private_key = bitcoin.wallet.CBitcoinSecret(\"92yyk3sjqzTTXoTAk9XcHPvxB3pFdiLGF5bDzZTr7GJUSwGCEQC\") # Replace with actual wif\n",
        "my_public_key = my_private_key.pub\n",
        "my_address = bitcoin.wallet.P2PKHBitcoinAddress.from_pubkey(my_public_key)\n",
        "\n",
        "dst_seckey1 = bitcoin.wallet.CBitcoinSecret(\"93N2Hw71bHAcvkn4JM3VLqW8e3MYJRyoDVe5aXdbvmh7XCX5Fyz\") # Replace with actual destination wif\n",
        "dst_pubkey1 = dst_seckey1.pub\n",
        "dst_address1 = bitcoin.wallet.P2PKHBitcoinAddress.from_pubkey(dst_pubkey1)\n",
        "\n",
        "dst_seckey2 = bitcoin.wallet.CBitcoinSecret(\"93Q5PZFgZfM9EcuDHf5Q8ASrv4K53QNWMkiVPFPtJmUQA6pWK5s\") # Replace with actual destination wif\n",
        "dst_pubkey2 = dst_seckey2.pub\n",
        "dst_address2 = bitcoin.wallet.P2PKHBitcoinAddress.from_pubkey(dst_pubkey2)\n",
        "\n",
        "dst_seckey3 = bitcoin.wallet.CBitcoinSecret(\"92ABWZK4kLxN1EqbkPLQcUntwm5ZfLE4SxR6o8WQSfHSXLjwJZc\") # Replace with actual destination wif\n",
        "dst_pubkey3 = dst_seckey3.pub\n",
        "dst_address3 = bitcoin.wallet.P2PKHBitcoinAddress.from_pubkey(dst_pubkey3)\n",
        "\n",
        "txid = '21f4713326dbe56bdd553613fdf6f112086425f55c83fd54e8a2f36045e1d965'  # Replace with actual txid from faucet\n",
        "utxo_index = 0\n",
        "amount_to_send = 0.00477645  ## replace with your actual balance\n",
        "fee = 0.0001\n",
        "\n",
        "txin_scriptPubKey = create_P2MS(dst_pubkey1, dst_pubkey2, dst_pubkey3)\n",
        "tx2_hex1 = spend_P2MS_transaction(txid, utxo_index, amount_to_send, fee, dst_seckey1, dst_seckey2, my_address, txin_scriptPubKey)\n",
        "# !echo $tx2_hex1\n",
        "!curl -X POST -sSLd \"$tx2_hex1\" \"https://mempool.space/testnet4/api/tx\""
      ],
      "metadata": {
        "colab": {
          "base_uri": "https://localhost:8080/"
        },
        "id": "TDHzARTB6JBV",
        "outputId": "2373445f-22f2-4c06-f1ad-de9e8eacb39d"
      },
      "execution_count": 7,
      "outputs": [
        {
          "output_type": "stream",
          "name": "stdout",
          "text": [
            "f2b2a965cac99c85f71f8705454793183e93a47b558c485dec92c1101bdacf55"
          ]
        }
      ]
    },
    {
      "cell_type": "markdown",
      "metadata": {
        "id": "qpbKfeM85Tba"
      },
      "source": [
        "### 2.3: Custom Transaction (BitCoin Scripting)\n"
      ]
    },
    {
      "cell_type": "code",
      "execution_count": 144,
      "metadata": {
        "id": "Go34HLTS5Tba"
      },
      "outputs": [],
      "source": [
        "# Create the conditional scriptPubKey\n",
        "def create_redeem_script(public_key):\n",
        "    hashed_password = sha256(b'StudentId').digest()  ## replace with actual student id\n",
        "    current_year = 0x7E8  ## 2024 = 0x7E8\n",
        "    legal_age = 0x12 ## 18 = 0x12\n",
        "    return [OP_IF,\n",
        "            current_year, OP_SWAP, OP_SUB, legal_age, OP_GREATERTHAN, OP_VERIFY,\n",
        "        OP_ELSE,\n",
        "            OP_SHA256, hashed_password, OP_EQUALVERIFY,\n",
        "        OP_ENDIF,\n",
        "        public_key, OP_CHECKSIG\n",
        "    ]\n",
        "\n",
        "def create_lock_script(redeem_script):\n",
        "    return [OP_HASH160, Hash160(CScript(redeem_script)), OP_EQUAL]\n",
        "\n",
        "def create_initial_transaction(txid_to_spend, utxo_index, amount_to_send, fee, dst_pubkey, my_secKey, txin_scriptPubKey):\n",
        "    txin = CMutableTxIn(COutPoint(lx(txid_to_spend), utxo_index))\n",
        "    redeem_script = create_redeem_script(dst_pubkey)\n",
        "    lock_script = create_lock_script(redeem_script)\n",
        "    txout = CMutableTxOut((amount_to_send - fee) * COIN, CScript(lock_script))\n",
        "    tx = CMutableTransaction([txin], [txout])\n",
        "\n",
        "    # Sign the transaction\n",
        "    sighash = SignatureHash(CScript(txin_scriptPubKey), tx, 0, SIGHASH_ALL)\n",
        "    sig = my_secKey.sign(sighash) + bytes([SIGHASH_ALL])\n",
        "\n",
        "    txin.scriptSig = CScript([sig, my_secKey.pub])\n",
        "\n",
        "    VerifyScript(txin.scriptSig, CScript(txin_scriptPubKey), tx, 0, (SCRIPT_VERIFY_P2SH,))\n",
        "\n",
        "    raw_transaction = b2x(tx.serialize())\n",
        "    return raw_transaction, lock_script\n",
        "\n",
        "def spend_by_verifying_age(txid_to_spend, utxo_index, amount_to_send, fee, birth_year, dst_address, my_secKey, lock_script):\n",
        "    txin = CMutableTxIn(COutPoint(lx(txid_to_spend), utxo_index))\n",
        "    txout = CMutableTxOut((amount_to_send - fee) * COIN, CScript(P2PKH_scriptPubKey(str(dst_address))))\n",
        "\n",
        "    redeem_script = create_redeem_script(my_secKey.pub)\n",
        "\n",
        "    tx = CMutableTransaction([txin], [txout])\n",
        "    sighash = SignatureHash(CScript(redeem_script), tx, 0, SIGHASH_ALL)\n",
        "    sig = my_secKey.sign(sighash) + bytes([SIGHASH_ALL])\n",
        "\n",
        "    # Create scriptSig\n",
        "    unlock_script = [sig, birth_year, OP_TRUE, CScript(redeem_script)]\n",
        "    txin.scriptSig = CScript(unlock_script)\n",
        "\n",
        "\n",
        "    VerifyScript(txin.scriptSig, CScript(lock_script), tx, 0, (SCRIPT_VERIFY_P2SH,))\n",
        "    raw_transaction = b2x(tx.serialize())\n",
        "    return raw_transaction\n",
        "\n",
        "\n",
        "def spend_by_providing_password(txid_to_spend, utxo_index, amount_to_send, fee, password, dst_address, my_secKey, lock_script):\n",
        "    txin = CMutableTxIn(COutPoint(lx(txid_to_spend), utxo_index))\n",
        "    txout = CMutableTxOut((amount_to_send - fee) * COIN, CScript(P2PKH_scriptPubKey(str(dst_address))))\n",
        "\n",
        "    redeem_script = create_redeem_script(my_secKey.pub)\n",
        "\n",
        "    tx = CMutableTransaction([txin], [txout])\n",
        "    sighash = SignatureHash(CScript(redeem_script), tx, 0, SIGHASH_ALL)\n",
        "    sig = my_secKey.sign(sighash) + bytes([SIGHASH_ALL])\n",
        "\n",
        "    # Create scriptSig\n",
        "    txin_scriptSig = [sig, password, OP_FALSE, CScript(redeem_script)]\n",
        "\n",
        "    txin.scriptSig = CScript(txin_scriptSig)\n",
        "    VerifyScript(txin.scriptSig, CScript(lock_script), tx, 0, (SCRIPT_VERIFY_P2SH,))\n",
        "\n",
        "\n",
        "    raw_transaction = b2x(tx.serialize())\n",
        "    return raw_transaction"
      ]
    },
    {
      "cell_type": "markdown",
      "source": [
        "#### **BY BIRTH YEAR**"
      ],
      "metadata": {
        "id": "vzZrtpcmrSjk"
      }
    },
    {
      "cell_type": "markdown",
      "source": [
        "**create first transaction**"
      ],
      "metadata": {
        "id": "g11h4Vn4rhut"
      }
    },
    {
      "cell_type": "code",
      "source": [
        "my_private_key = bitcoin.wallet.CBitcoinSecret(\"xxxxxxxxxxxxxxxxxxxxxxxxxxxxxxxxxxxxxxxxxxxxxxxxx\") # Replace with actual wif\n",
        "my_public_key = my_private_key.pub\n",
        "my_address = bitcoin.wallet.P2PKHBitcoinAddress.from_pubkey(my_public_key)\n",
        "\n",
        "dst_seckey = bitcoin.wallet.CBitcoinSecret(\"xxxxxxxxxxxxxxxxxxxxxxxxxxxxxxxxxxxxxxxxxxxxxxxxxx\") # Replace with actual destination wif\n",
        "dst_pubkey = dst_seckey.pub\n",
        "dst_address = bitcoin.wallet.P2PKHBitcoinAddress.from_pubkey(dst_pubkey)\n",
        "\n",
        "txid = 'xxxxxxxxxxxxxxxxxxxxxxxxxxxxxxxxxxxxxxxxxxxxxxxxxxxxxxxxxxxxxxxxxxxxxxxxxxxx'  # Replace with actual txid from faucet\n",
        "utxo_index = 0\n",
        "amount_to_send = 0.001  ## replace with your actual balance\n",
        "fee = 0.0001\n",
        "\n",
        "txin_scriptPubKey = P2PKH_scriptPubKey(str(my_address))\n",
        "tx1_hex, lock_script1 = create_initial_transaction(txid, utxo_index, amount_to_send, fee, dst_pubkey, my_private_key, txin_scriptPubKey)\n",
        "# !echo $tx1_hex\n",
        "!curl -X POST -sSLd \"$tx1_hex\" \"https://mempool.space/testnet4/api/tx\""
      ],
      "metadata": {
        "colab": {
          "base_uri": "https://localhost:8080/"
        },
        "id": "K2VFbSgeVxsY",
        "outputId": "66bbbbef-fd74-45f9-c4a6-17461136c38f"
      },
      "execution_count": 146,
      "outputs": [
        {
          "output_type": "stream",
          "name": "stdout",
          "text": [
            "f0c813582d132e1e235aec1f1f905fbc0e1cf504a71ae887caeac8a274982443"
          ]
        }
      ]
    },
    {
      "cell_type": "markdown",
      "source": [
        "**spend above transaction by birth year**"
      ],
      "metadata": {
        "id": "F5wztGOfroZC"
      }
    },
    {
      "cell_type": "code",
      "source": [
        "my_private_key = bitcoin.wallet.CBitcoinSecret(\"xxxxxxxxxxxxxxxxxxxxxxxxxxxxxxxxxxxxxxxxxxxxxxxxx\") # Replace with actual wif\n",
        "my_public_key = my_private_key.pub\n",
        "my_address = bitcoin.wallet.P2PKHBitcoinAddress.from_pubkey(my_public_key)\n",
        "\n",
        "dst_seckey = bitcoin.wallet.CBitcoinSecret(\"xxxxxxxxxxxxxxxxxxxxxxxxxxxxxxxxxxxxxxxxxxxxxxxxxx\") # Replace with actual destination wif\n",
        "dst_pubkey = dst_seckey.pub\n",
        "dst_address = bitcoin.wallet.P2PKHBitcoinAddress.from_pubkey(dst_pubkey)\n",
        "\n",
        "txid = 'xxxxxxxxxxxxxxxxxxxxxxxxxxxxxxxxxxxxxxxxxxxxxxxxxxxxxxxxxxxxxxxxxxxxxxxxxxxx'  # Replace with actual txid from faucet\n",
        "utxo_index = 0\n",
        "amount_to_send = 0.001  ## replace with your actual balance\n",
        "fee = 0.0001\n",
        "\n",
        "txin_scriptPubKey = lock_script1\n",
        "birth_year = 0x7D1 ## 2001 = 0x7D1\n",
        "\n",
        "tx_spend1_hex = spend_by_verifying_age(txid, utxo_index, amount_to_send, fee, birth_year, dst_address, my_private_key, txin_scriptPubKey)\n",
        "\n",
        "# !echo $tx_spend1_hex\n",
        "!curl -X POST -sSLd \"$tx_spend1_hex\" \"https://mempool.space/testnet4/api/tx\""
      ],
      "metadata": {
        "colab": {
          "base_uri": "https://localhost:8080/"
        },
        "id": "p2eyNM3AfodV",
        "outputId": "86e391e9-ef3a-4fc5-c1e3-f584a03aea4b"
      },
      "execution_count": 152,
      "outputs": [
        {
          "output_type": "stream",
          "name": "stdout",
          "text": [
            "2a691884927c92649b0c8759f929b931ba21d75bb21bc21f4a3b5868be0bc4d7"
          ]
        }
      ]
    },
    {
      "cell_type": "markdown",
      "source": [
        "#### **BY PASSWORD**"
      ],
      "metadata": {
        "id": "QzYsr8C6ryCH"
      }
    },
    {
      "cell_type": "markdown",
      "source": [
        "**create first transaction**"
      ],
      "metadata": {
        "id": "XdKcfg7ssFiF"
      }
    },
    {
      "cell_type": "code",
      "source": [
        "my_private_key = bitcoin.wallet.CBitcoinSecret(\"xxxxxxxxxxxxxxxxxxxxxxxxxxxxxxxxxxxxxxxxxxxxxxxxx\") # Replace with actual wif\n",
        "my_public_key = my_private_key.pub\n",
        "my_address = bitcoin.wallet.P2PKHBitcoinAddress.from_pubkey(my_public_key)\n",
        "\n",
        "dst_seckey = bitcoin.wallet.CBitcoinSecret(\"xxxxxxxxxxxxxxxxxxxxxxxxxxxxxxxxxxxxxxxxxxxxxxxxxx\") # Replace with actual destination wif\n",
        "dst_pubkey = dst_seckey.pub\n",
        "dst_address = bitcoin.wallet.P2PKHBitcoinAddress.from_pubkey(dst_pubkey)\n",
        "\n",
        "txid = 'xxxxxxxxxxxxxxxxxxxxxxxxxxxxxxxxxxxxxxxxxxxxxxxxxxxxxxxxxxxxxxxxxxxxxxxxxxxx'  # Replace with actual txid from faucet\n",
        "utxo_index = 0\n",
        "amount_to_send = 0.001  ## replace with your actual balance\n",
        "fee = 0.0001\n",
        "\n",
        "txin_scriptPubKey = P2PKH_scriptPubKey(str(my_address))\n",
        "tx1_hex, lock_script1 = create_initial_transaction(txid, utxo_index, amount_to_send, fee, dst_pubkey, my_private_key, txin_scriptPubKey)\n",
        "# !echo $tx1_hex\n",
        "!curl -X POST -sSLd \"$tx1_hex\" \"https://mempool.space/testnet4/api/tx\""
      ],
      "metadata": {
        "colab": {
          "base_uri": "https://localhost:8080/"
        },
        "id": "bZ4KeqkGfo1P",
        "outputId": "fcc0bb54-9702-4fc3-e0b1-500d5d54d4c6"
      },
      "execution_count": 12,
      "outputs": [
        {
          "output_type": "stream",
          "name": "stdout",
          "text": [
            "52ceb80c5c7a5a0eb6bd2fe84de9aaf119b6339e74648e300c3175ae0174c7d5"
          ]
        }
      ]
    },
    {
      "cell_type": "markdown",
      "source": [
        "**spend above transaction by password**"
      ],
      "metadata": {
        "id": "ZnYMjn71r81v"
      }
    },
    {
      "cell_type": "code",
      "source": [
        "my_private_key = bitcoin.wallet.CBitcoinSecret(\"xxxxxxxxxxxxxxxxxxxxxxxxxxxxxxxxxxxxxxxxxxxxxxxxx\") # Replace with actual wif\n",
        "my_public_key = my_private_key.pub\n",
        "my_address = bitcoin.wallet.P2PKHBitcoinAddress.from_pubkey(my_public_key)\n",
        "\n",
        "dst_seckey = bitcoin.wallet.CBitcoinSecret(\"xxxxxxxxxxxxxxxxxxxxxxxxxxxxxxxxxxxxxxxxxxxxxxxxxx\") # Replace with actual destination wif\n",
        "dst_pubkey = dst_seckey.pub\n",
        "dst_address = bitcoin.wallet.P2PKHBitcoinAddress.from_pubkey(dst_pubkey)\n",
        "\n",
        "txid = 'xxxxxxxxxxxxxxxxxxxxxxxxxxxxxxxxxxxxxxxxxxxxxxxxxxxxxxxxxxxxxxxxxxxxxxxxxxxx'  # Replace with actual txid from faucet\n",
        "utxo_index = 0\n",
        "amount_to_send = 0.001  ## replace with your actual balance\n",
        "fee = 0.0001\n",
        "\n",
        "password = b'xxxxxxxxxx' ## replace with your password\n",
        "\n",
        "txin_scriptPubKey = lock_script1\n",
        "\n",
        "tx_spend1_hex = spend_by_providing_password(txid, utxo_index, amount_to_send, fee, password, dst_address, my_private_key, txin_scriptPubKey)\n",
        "\n",
        "# !echo $tx_spend1_hex\n",
        "!curl -X POST -sSLd \"$tx_spend1_hex\" \"https://mempool.space/testnet4/api/tx\""
      ],
      "metadata": {
        "colab": {
          "base_uri": "https://localhost:8080/"
        },
        "id": "8lMRV_56fpGo",
        "outputId": "f62e5f30-6c81-4541-c194-4ae2c2f0d431"
      },
      "execution_count": 128,
      "outputs": [
        {
          "output_type": "stream",
          "name": "stdout",
          "text": [
            "d1a68c8f20cc0ce8297e4f4b5ec297af1c6f98630e8105fd9d63b39c004c4ff0"
          ]
        }
      ]
    }
  ],
  "metadata": {
    "colab": {
      "provenance": [],
      "collapsed_sections": [
        "muME3IWI5TbZ"
      ]
    },
    "kernelspec": {
      "display_name": "Python 3",
      "language": "python",
      "name": "python3"
    },
    "language_info": {
      "codemirror_mode": {
        "name": "ipython",
        "version": 3
      },
      "file_extension": ".py",
      "mimetype": "text/x-python",
      "name": "python",
      "nbconvert_exporter": "python",
      "pygments_lexer": "ipython3",
      "version": "3.8.5"
    }
  },
  "nbformat": 4,
  "nbformat_minor": 0
}